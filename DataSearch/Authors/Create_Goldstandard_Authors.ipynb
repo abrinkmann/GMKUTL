{
 "cells": [
  {
   "cell_type": "code",
   "execution_count": 1,
   "metadata": {
    "scrolled": true
   },
   "outputs": [
    {
     "data": {
      "text/html": [
       "<div>\n",
       "<style scoped>\n",
       "    .dataframe tbody tr th:only-of-type {\n",
       "        vertical-align: middle;\n",
       "    }\n",
       "\n",
       "    .dataframe tbody tr th {\n",
       "        vertical-align: top;\n",
       "    }\n",
       "\n",
       "    .dataframe thead th {\n",
       "        text-align: right;\n",
       "    }\n",
       "</style>\n",
       "<table border=\"1\" class=\"dataframe\">\n",
       "  <thead>\n",
       "    <tr style=\"text-align: right;\">\n",
       "      <th></th>\n",
       "      <th>URI</th>\n",
       "      <th>abstract</th>\n",
       "      <th>birthDate</th>\n",
       "      <th>deathDate</th>\n",
       "      <th>gender</th>\n",
       "      <th>label</th>\n",
       "      <th>links</th>\n",
       "      <th>work</th>\n",
       "    </tr>\n",
       "  </thead>\n",
       "  <tbody>\n",
       "    <tr>\n",
       "      <th>0</th>\n",
       "      <td>http://dbpedia.org/resource/Abbie_Hoffman</td>\n",
       "      <td>Abbot Howard \"Abbie\" Hoffman (November 30, 193...</td>\n",
       "      <td>1936-11-30</td>\n",
       "      <td>1989-04-12</td>\n",
       "      <td>male</td>\n",
       "      <td>Abbie Hoffman</td>\n",
       "      <td>\\thttp://viaf.org/viaf/79408884\\thttp://www.wi...</td>\n",
       "      <td>\\tSteal_This_Book\\tWoodstock_Nation_(book)</td>\n",
       "    </tr>\n",
       "    <tr>\n",
       "      <th>1</th>\n",
       "      <td>http://dbpedia.org/resource/Adam_Oehlenschläger</td>\n",
       "      <td>Adam Gottlob Oehlenschläger (14 November 1779 ...</td>\n",
       "      <td>1779-11-14</td>\n",
       "      <td>1850-01-20</td>\n",
       "      <td>male</td>\n",
       "      <td>Adam Oehlenschläger</td>\n",
       "      <td>\\thttp://dbpedia.org/resource/Adam_Oehlenschlä...</td>\n",
       "      <td>NaN</td>\n",
       "    </tr>\n",
       "    <tr>\n",
       "      <th>2</th>\n",
       "      <td>http://dbpedia.org/resource/Adam_Wiśniewski-Snerg</td>\n",
       "      <td>Adam Wiśniewski-Snerg (January 1, 1937 - Augus...</td>\n",
       "      <td>1937-01-01</td>\n",
       "      <td>1995-08-30</td>\n",
       "      <td>male</td>\n",
       "      <td>Adam Wiśniewski-Snerg</td>\n",
       "      <td>\\thttp://dbpedia.org/resource/Adam_Wiśniewski-...</td>\n",
       "      <td>NaN</td>\n",
       "    </tr>\n",
       "    <tr>\n",
       "      <th>3</th>\n",
       "      <td>http://dbpedia.org/resource/Adrienne_Rich</td>\n",
       "      <td>Adrienne Cecile Rich (May 16, 1929 – March 27,...</td>\n",
       "      <td>1929-05-16</td>\n",
       "      <td>2012-03-27</td>\n",
       "      <td>female</td>\n",
       "      <td>Adrienne Rich</td>\n",
       "      <td>\\thttp://viaf.org/viaf/16565\\thttp://www.wikid...</td>\n",
       "      <td>\\tOn_Lies,_Secrets_and_Silence</td>\n",
       "    </tr>\n",
       "    <tr>\n",
       "      <th>4</th>\n",
       "      <td>http://dbpedia.org/resource/Alessandro_Manzoni</td>\n",
       "      <td>Alessandro Francesco Tommaso Manzoni (Italian:...</td>\n",
       "      <td>1785-03-07</td>\n",
       "      <td>1873-05-22</td>\n",
       "      <td>male</td>\n",
       "      <td>Alessandro Manzoni</td>\n",
       "      <td>\\thttp://dati.camera.it/ocd/persona.rdf/pr272\\...</td>\n",
       "      <td>\\tThe_Betrothed_(Manzoni_novel)\\tThe_Betrothed...</td>\n",
       "    </tr>\n",
       "  </tbody>\n",
       "</table>\n",
       "</div>"
      ],
      "text/plain": [
       "                                                 URI                                           abstract   birthDate   deathDate  gender                  label                                              links                                               work\n",
       "0          http://dbpedia.org/resource/Abbie_Hoffman  Abbot Howard \"Abbie\" Hoffman (November 30, 193...  1936-11-30  1989-04-12    male          Abbie Hoffman  \\thttp://viaf.org/viaf/79408884\\thttp://www.wi...         \\tSteal_This_Book\\tWoodstock_Nation_(book)\n",
       "1    http://dbpedia.org/resource/Adam_Oehlenschläger  Adam Gottlob Oehlenschläger (14 November 1779 ...  1779-11-14  1850-01-20    male    Adam Oehlenschläger  \\thttp://dbpedia.org/resource/Adam_Oehlenschlä...                                                NaN\n",
       "2  http://dbpedia.org/resource/Adam_Wiśniewski-Snerg  Adam Wiśniewski-Snerg (January 1, 1937 - Augus...  1937-01-01  1995-08-30    male  Adam Wiśniewski-Snerg  \\thttp://dbpedia.org/resource/Adam_Wiśniewski-...                                                NaN\n",
       "3          http://dbpedia.org/resource/Adrienne_Rich  Adrienne Cecile Rich (May 16, 1929 – March 27,...  1929-05-16  2012-03-27  female          Adrienne Rich  \\thttp://viaf.org/viaf/16565\\thttp://www.wikid...                     \\tOn_Lies,_Secrets_and_Silence\n",
       "4     http://dbpedia.org/resource/Alessandro_Manzoni  Alessandro Francesco Tommaso Manzoni (Italian:...  1785-03-07  1873-05-22    male     Alessandro Manzoni  \\thttp://dati.camera.it/ocd/persona.rdf/pr272\\...  \\tThe_Betrothed_(Manzoni_novel)\\tThe_Betrothed..."
      ]
     },
     "metadata": {},
     "output_type": "execute_result"
    }
   ],
   "source": [
    "import pandas as pd\n",
    "\n",
    "pd.set_option('display.max_columns', 1000)\n",
    "pd.set_option('display.width', 1000)\n",
    "\n",
    "dfAuthor = pd.read_csv('DBPediaAuthorsReduced.csv', sep=',', low_memory=False)\n",
    "display(dfAuthor.head())"
   ]
  },
  {
   "cell_type": "code",
   "execution_count": 2,
   "metadata": {},
   "outputs": [],
   "source": [
    "import csv\n",
    "dfAuthor_wikidata = pd.read_csv('WikiDataAuthorsReduced.csv', sep=',', low_memory=False)\n",
    "\n",
    "with open('goldstandard_author_WikiDataAuthors.csv', 'w', newline='', encoding='utf-8') as csvfile:\n",
    "    goldwriter = csv.writer(csvfile, delimiter=',',\n",
    "                            quotechar='\"', quoting=csv.QUOTE_MINIMAL)\n",
    "    for index, row in dfAuthor.iterrows():\n",
    "        if index > 2:\n",
    "            links = row['links'].split('\\t')\n",
    "            for link in links:\n",
    "                if 'http://www.wikidata.org/entity/' in str(link) and str(link) in dfAuthor_wikidata['uri'].values:\n",
    "                    value = str(row['URI'])\n",
    "                    goldwriter.writerow([value.lower()] + [link.lower()] + ['TRUE'])"
   ]
  },
  {
   "cell_type": "code",
   "execution_count": 3,
   "metadata": {},
   "outputs": [],
   "source": [
    "dfAuthor_viaf = pd.read_csv('VIAFDataAuthorsReduced.csv', sep=',', low_memory=False)\n",
    "\n",
    "with open('goldstandard_author_VIAFDataAuthors.csv', 'w', newline='', encoding='utf-8') as csvfile:\n",
    "    goldwriter = csv.writer(csvfile, delimiter=',',\n",
    "                            quotechar='\"', quoting=csv.QUOTE_MINIMAL)\n",
    "    for index, row in dfAuthor.iterrows():\n",
    "        if index > 2:\n",
    "            links = row['links'].split('\\t')\n",
    "            for link in links:\n",
    "                if 'http://viaf.org/viaf/' in str(link) and str(link) in dfAuthor_viaf['uri'].values:\n",
    "                    value = str(row['URI'])\n",
    "                    goldwriter.writerow([value.lower()] + [link.lower()] + ['TRUE'])"
   ]
  },
  {
   "cell_type": "code",
   "execution_count": 4,
   "metadata": {},
   "outputs": [],
   "source": [
    "dfAuthor_dnb = pd.read_csv('DnbDataAuthorsReduced.csv', sep=',', low_memory=False)\n",
    "\n",
    "with open('goldstandard_author_DnbDataAuthors.csv', 'w', newline='', encoding='utf-8') as csvfile:\n",
    "    goldwriter = csv.writer(csvfile, delimiter=',',\n",
    "                            quotechar='\"', quoting=csv.QUOTE_MINIMAL)\n",
    "    for index, row in dfAuthor.iterrows():\n",
    "        if index > 2:\n",
    "            links = row['links'].split('\\t')\n",
    "            for link in links:\n",
    "                if 'http://d-nb.info/gnd/' in str(link) and str(link) in dfAuthor_dnb['uri'].values:\n",
    "                    value = str(row['URI'])\n",
    "                    goldwriter.writerow([value.lower()] + [link.lower()] + ['TRUE'])"
   ]
  },
  {
   "cell_type": "code",
   "execution_count": null,
   "metadata": {},
   "outputs": [],
   "source": []
  }
 ],
 "metadata": {
  "kernelspec": {
   "display_name": "Python 3",
   "language": "python",
   "name": "python3"
  },
  "language_info": {
   "codemirror_mode": {
    "name": "ipython",
    "version": 3
   },
   "file_extension": ".py",
   "mimetype": "text/x-python",
   "name": "python",
   "nbconvert_exporter": "python",
   "pygments_lexer": "ipython3",
   "version": "3.5.5"
  }
 },
 "nbformat": 4,
 "nbformat_minor": 2
}
