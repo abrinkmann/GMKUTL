{
 "cells": [
  {
   "cell_type": "code",
   "execution_count": null,
   "metadata": {},
   "outputs": [],
   "source": [
    "import pandas as pd\n",
    "import os\n",
    "\n",
    "dfHotels = pd.DataFrame()\n",
    "\n",
    "for filename in os.listdir('fragments'):\n",
    "    if filename.endswith('.csv') and 'without' in filename:\n",
    "        file = 'fragments/' + filename\n",
    "        dfHotels = dfHotels.append(pd.read_csv(file, sep=',', encoding='utf-8'), sort=False)\n",
    "        continue\n",
    "\n",
    "        \n",
    "dfHotels = dfHotels.drop_duplicates(subset=['uri'], keep='first')\n",
    "dfHotels = dfHotels.drop_duplicates(subset=['source_reduced', 'Hotel/name'], keep='first')\n",
    "display(dfHotels)"
   ]
  },
  {
   "cell_type": "code",
   "execution_count": null,
   "metadata": {},
   "outputs": [],
   "source": [
    "header = []\n",
    "for name in dfHotels.columns:\n",
    "    name = name.replace('Hotel/', 'hotel_').replace('PostalAddress/', 'postaladdress_').replace('Place/', 'place_')\n",
    "    header.append(name)\n",
    "\n",
    "dfHotels.columns = header\n",
    "\n",
    "del dfHotels['<http://purl.org/dc/terms/title>']\n",
    "del dfHotels['<http://schema.org/AggregateRating/bestRating>']\n",
    "del dfHotels['<http://schema.org/AggregateRating/ratingValue>']\n",
    "del dfHotels['<http://schema.org/hotel_address>']\n",
    "del dfHotels['<http://schema.org/hotel_aggregateRating>']\n",
    "#del dfHotels['<http://schema.org/hotel_image>']\n",
    "del dfHotels['<http://schema.org/hotel_name>']\n",
    "del dfHotels['<http://schema.org/hotel_priceRange>']\n",
    "del dfHotels['<http://schema.org/postaladdress_addressCountry>']\n",
    "del dfHotels['<http://schema.org/postaladdress_addressLocality>']\n",
    "del dfHotels['<http://schema.org/postaladdress_streetAddress>']\n",
    "del dfHotels['<http://schema.org/postaladdress_postalCode>']\n",
    "del dfHotels['<http://www.w3.org/1999/02/22-rdf-syntax-ns#type>']\n",
    "del dfHotels['<http://www.w3.org/1999/xhtml/microdata#item>']\n",
    "#del dfHotels['<http://schema.org/hotel_sameAs>']\n",
    "del dfHotels['<http://schema.org/hotel_url>']\n"
   ]
  },
  {
   "cell_type": "code",
   "execution_count": null,
   "metadata": {},
   "outputs": [],
   "source": [
    "dfHotelsNew = pd.DataFrame()\n",
    "replace_names = ['www.hotels.com', 'au.hotels.com', 'uk.hotels.com', 'in.hotels.com', 'ie.hotels.com',\n",
    "                 'nz.hotels.com', 'sg.hotels.com', 'ca.hotels.com', 'za.hotels.com', 'ph.hotels.com']\n",
    "for index, row in dfHotels.iterrows():\n",
    "    if row['source_reduced'] in replace_names:\n",
    "        row['source_reduced'] = 'hotels.com'\n",
    "    \n",
    "    dfHotelsNew = dfHotelsNew.append(row)\n",
    "    \n",
    "dfHotels = dfHotelsNew"
   ]
  },
  {
   "cell_type": "code",
   "execution_count": null,
   "metadata": {},
   "outputs": [],
   "source": [
    "dfHotels = dfHotels.drop_duplicates(subset=['source_reduced', 'hotel_name'], keep='first')\n",
    "len(dfHotels)"
   ]
  },
  {
   "cell_type": "code",
   "execution_count": null,
   "metadata": {},
   "outputs": [],
   "source": [
    "# Reduce Hotels\n",
    "dfHotels = dfHotels[~dfHotels['hotel_name'].str.lower().str.contains('hilton')]\n",
    "dfHotels = dfHotels[dfHotels['hotel_name'].str.lower().str.contains('paris')]\n",
    "len(dfHotels)"
   ]
  },
  {
   "cell_type": "code",
   "execution_count": null,
   "metadata": {},
   "outputs": [],
   "source": [
    "import csv\n",
    "\n",
    "listOthers = []\n",
    "\n",
    "def splitDataSet(name):\n",
    "    dfHotelsCoins = pd.DataFrame()\n",
    "    counter = 0\n",
    "    dfHotelsSubset = dfHotels[dfHotels['source_reduced'] == name]\n",
    "    display(name)\n",
    "    for index, row in dfHotelsSubset.iterrows():\n",
    "        row['uri'] = name + '_' + str(counter)\n",
    "        counter = counter + 1\n",
    "        dfHotelsCoins = dfHotelsCoins.append(row)\n",
    "    filename = 'subsets/hotels_' + name + '.csv'\n",
    "    dfHotelsCoins.to_csv(filename, sep=',', encoding='utf-8', index=False, quotechar='\"', quoting=csv.QUOTE_ALL)\n",
    "\n",
    "from nltk.metrics import jaccard_distance\n",
    "from nltk import wordpunct_tokenize\n",
    "\n",
    "def checkExectMatch(name):\n",
    "    dfHotelsSubset = dfHotels[dfHotels['source_reduced'] == name]\n",
    "    dfHotelsOther = dfHotels[dfHotels['source_reduced'] != name]\n",
    "    \n",
    "    size = len(dfHotelsSubset)\n",
    "    \n",
    "    if size > 10:\n",
    "        splitDataSet(name)\n",
    "        display(name)\n",
    "        subset = dfHotelsOther[dfHotelsOther['hotel_name'].isin(dfHotelsSubset['hotel_name'].values)]['source_reduced'].unique()\n",
    "        display(subset)\n",
    "        display(size)\n",
    "    else:\n",
    "        listOthers.append(name)\n",
    "\n",
    "sites = ['revngo.com', 'www.nighttours.com', 'www.touristlink.com', 'www.ihg.com']\n",
    "#checkExectMatch('london.carpediem.cd')\n",
    "[checkExectMatch(name) for name in sites]\n",
    "#checkExectMatch('www.hotels.com')"
   ]
  },
  {
   "cell_type": "code",
   "execution_count": null,
   "metadata": {},
   "outputs": [],
   "source": [
    "#Write Others to file\n",
    "dfHotelsCoins = pd.DataFrame()\n",
    "dfHotelsSubset = dfHotels[dfHotels['source_reduced'].isin(listOthers)]\n",
    "counter = 0\n",
    "\n",
    "for index, row in dfHotelsSubset.iterrows():\n",
    "    row['uri'] = 'other_' + str(counter)\n",
    "    counter = counter + 1\n",
    "    dfHotelsCoins = dfHotelsCoins.append(row)\n",
    "filename = 'subsets/hotels_other.csv'\n",
    "dfHotelsCoins.to_csv(filename, sep=',', encoding='utf-8', index=False, quotechar='\"', quoting=csv.QUOTE_ALL)\n",
    "    \n"
   ]
  }
 ],
 "metadata": {
  "kernelspec": {
   "display_name": "Python 3",
   "language": "python",
   "name": "python3"
  },
  "language_info": {
   "codemirror_mode": {
    "name": "ipython",
    "version": 3
   },
   "file_extension": ".py",
   "mimetype": "text/x-python",
   "name": "python",
   "nbconvert_exporter": "python",
   "pygments_lexer": "ipython3",
   "version": "3.5.5"
  }
 },
 "nbformat": 4,
 "nbformat_minor": 2
}
