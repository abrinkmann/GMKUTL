{
 "cells": [
  {
   "cell_type": "code",
   "execution_count": 1,
   "metadata": {
    "scrolled": true
   },
   "outputs": [
    {
     "data": {
      "text/html": [
       "<div>\n",
       "<style scoped>\n",
       "    .dataframe tbody tr th:only-of-type {\n",
       "        vertical-align: middle;\n",
       "    }\n",
       "\n",
       "    .dataframe tbody tr th {\n",
       "        vertical-align: top;\n",
       "    }\n",
       "\n",
       "    .dataframe thead th {\n",
       "        text-align: right;\n",
       "    }\n",
       "</style>\n",
       "<table border=\"1\" class=\"dataframe\">\n",
       "  <thead>\n",
       "    <tr style=\"text-align: right;\">\n",
       "      <th></th>\n",
       "      <th>URI</th>\n",
       "      <th>abstract</th>\n",
       "      <th>country</th>\n",
       "      <th>label</th>\n",
       "      <th>lat</th>\n",
       "      <th>links</th>\n",
       "      <th>long</th>\n",
       "      <th>population</th>\n",
       "      <th>populationMetro</th>\n",
       "    </tr>\n",
       "  </thead>\n",
       "  <tbody>\n",
       "    <tr>\n",
       "      <th>0</th>\n",
       "      <td>http://dbpedia.org/resource/Hafar_Al-Batin</td>\n",
       "      <td>Hafar Al-Batin (Arabic: حفر الباطن‎‎ Ḥafar al-...</td>\n",
       "      <td>Saudi_Arabia</td>\n",
       "      <td>Hafar Al-Batin</td>\n",
       "      <td>28.4342</td>\n",
       "      <td>\\thttp://www.wikidata.org/entity/Q27400\\thttp:...</td>\n",
       "      <td>45.9636</td>\n",
       "      <td>271642.0</td>\n",
       "      <td>49457.0</td>\n",
       "    </tr>\n",
       "    <tr>\n",
       "      <th>1</th>\n",
       "      <td>http://dbpedia.org/resource/Haifa</td>\n",
       "      <td>Haifa (Hebrew: חֵיפָה Hefa [χei̯ˈfa, ˈχai̯fa];...</td>\n",
       "      <td>Israel</td>\n",
       "      <td>Haifa</td>\n",
       "      <td>NaN</td>\n",
       "      <td>\\thttp://www.wikidata.org/entity/Q41621\\thttp:...</td>\n",
       "      <td>NaN</td>\n",
       "      <td>277082.0</td>\n",
       "      <td>1050000.0</td>\n",
       "    </tr>\n",
       "    <tr>\n",
       "      <th>2</th>\n",
       "      <td>http://dbpedia.org/resource/Aksu,_Kazakhstan</td>\n",
       "      <td>Aksu (Kazakh: Ақсу / Aqsw), literally meaning ...</td>\n",
       "      <td>Kazakhstan</td>\n",
       "      <td>Aksu, Kazakhstan</td>\n",
       "      <td>51.9939</td>\n",
       "      <td>\\thttp://www.wikidata.org/entity/Q622780\\thttp...</td>\n",
       "      <td>76.9908</td>\n",
       "      <td>69354.0</td>\n",
       "      <td>NaN</td>\n",
       "    </tr>\n",
       "    <tr>\n",
       "      <th>3</th>\n",
       "      <td>http://dbpedia.org/resource/Nandgaon,_Maharashtra</td>\n",
       "      <td>Nandgaon is a city and a municipal council in ...</td>\n",
       "      <td>India</td>\n",
       "      <td>Nandgaon, Maharashtra</td>\n",
       "      <td>18.3800</td>\n",
       "      <td>\\thttp://www.wikidata.org/entity/Q1931382\\thtt...</td>\n",
       "      <td>74.6570</td>\n",
       "      <td>23191.0</td>\n",
       "      <td>NaN</td>\n",
       "    </tr>\n",
       "    <tr>\n",
       "      <th>4</th>\n",
       "      <td>http://dbpedia.org/resource/Nandgaon,_Uttar_Pr...</td>\n",
       "      <td>Nandgaon is a town and a nagar panchayat in Ma...</td>\n",
       "      <td>India</td>\n",
       "      <td>Nandgaon, Uttar Pradesh</td>\n",
       "      <td>27.7200</td>\n",
       "      <td>\\thttp://www.wikidata.org/entity/Q2627110\\thtt...</td>\n",
       "      <td>77.3800</td>\n",
       "      <td>9956.0</td>\n",
       "      <td>NaN</td>\n",
       "    </tr>\n",
       "  </tbody>\n",
       "</table>\n",
       "</div>"
      ],
      "text/plain": [
       "                                                 URI                                           abstract       country                    label      lat                                              links     long  population  populationMetro\n",
       "0         http://dbpedia.org/resource/Hafar_Al-Batin  Hafar Al-Batin (Arabic: حفر الباطن‎‎ Ḥafar al-...  Saudi_Arabia           Hafar Al-Batin  28.4342  \\thttp://www.wikidata.org/entity/Q27400\\thttp:...  45.9636    271642.0          49457.0\n",
       "1                  http://dbpedia.org/resource/Haifa  Haifa (Hebrew: חֵיפָה Hefa [χei̯ˈfa, ˈχai̯fa];...        Israel                    Haifa      NaN  \\thttp://www.wikidata.org/entity/Q41621\\thttp:...      NaN    277082.0        1050000.0\n",
       "2       http://dbpedia.org/resource/Aksu,_Kazakhstan  Aksu (Kazakh: Ақсу / Aqsw), literally meaning ...    Kazakhstan         Aksu, Kazakhstan  51.9939  \\thttp://www.wikidata.org/entity/Q622780\\thttp...  76.9908     69354.0              NaN\n",
       "3  http://dbpedia.org/resource/Nandgaon,_Maharashtra  Nandgaon is a city and a municipal council in ...         India    Nandgaon, Maharashtra  18.3800  \\thttp://www.wikidata.org/entity/Q1931382\\thtt...  74.6570     23191.0              NaN\n",
       "4  http://dbpedia.org/resource/Nandgaon,_Uttar_Pr...  Nandgaon is a town and a nagar panchayat in Ma...         India  Nandgaon, Uttar Pradesh  27.7200  \\thttp://www.wikidata.org/entity/Q2627110\\thtt...  77.3800      9956.0              NaN"
      ]
     },
     "metadata": {},
     "output_type": "display_data"
    }
   ],
   "source": [
    "import pandas as pd\n",
    "\n",
    "pd.set_option('display.max_columns', 1000)\n",
    "pd.set_option('display.width', 1000)\n",
    "\n",
    "dfCityDBPedia = pd.read_csv('DBPediaCity.csv', sep=',')\n",
    "display(dfCityDBPedia.head())"
   ]
  },
  {
   "cell_type": "code",
   "execution_count": 3,
   "metadata": {},
   "outputs": [],
   "source": [
    "import csv\n",
    "\n",
    "dfCityWikiData = pd.read_csv('WikiDataCity.csv', sep=',')\n",
    "\n",
    "with open('goldstandard_city_true_WikiDataCity.csv', 'w', newline='', encoding='utf-8') as csvfile:\n",
    "    goldwriter = csv.writer(csvfile, delimiter=',',\n",
    "                            quotechar='\"', quoting=csv.QUOTE_MINIMAL)\n",
    "    for index, row in dfCityDBPedia.iterrows():\n",
    "            links = row['links'].split('\\t')\n",
    "            for link in links:\n",
    "                if 'http://www.wikidata.org/entity/' in str(link) and str(link) in dfCityWikiData['uri'].values:\n",
    "                    value = str(row['URI'])\n",
    "                    goldwriter.writerow([value.lower()] + [link.lower()] + ['TRUE'])"
   ]
  },
  {
   "cell_type": "code",
   "execution_count": 4,
   "metadata": {},
   "outputs": [],
   "source": [
    "dfCityGeonames = pd.read_csv('GeonamesData.csv', sep=',')\n",
    "\n",
    "with open('goldstandard_city_true_GeonamesData.csv', 'w', newline='', encoding='utf-8') as csvfile:\n",
    "    goldwriter = csv.writer(csvfile, delimiter=',',\n",
    "                            quotechar='\"', quoting=csv.QUOTE_MINIMAL)\n",
    "    for index, row in dfCityDBPedia.iterrows():\n",
    "            links = row['links'].split('\\t')\n",
    "            for link in links:\n",
    "                if 'http://sws.geonames.org/' in str(link) and str(link) in dfCityGeonames['URI'].values:\n",
    "                    value = str(row['URI'])\n",
    "                    goldwriter.writerow([value.lower()] + [link.lower()] + ['TRUE'])"
   ]
  },
  {
   "cell_type": "code",
   "execution_count": 6,
   "metadata": {},
   "outputs": [],
   "source": [
    "dfCityWebtables = pd.read_csv('WebTableDataCityExtended.csv', sep=',')\n",
    "\n",
    "with open('goldstandard_city_true_WebTableDataCity.csv', 'w', newline='', encoding='utf-8') as csvfile:\n",
    "    goldwriter = csv.writer(csvfile, delimiter=',',\n",
    "                            quotechar='\"', quoting=csv.QUOTE_MINIMAL)\n",
    "    for index, row in dfCityWebtables.iterrows():\n",
    "        if str(row['sameAs']) in dfCityDBPedia['URI'].values:\n",
    "            uri = str(row['URI'])\n",
    "            sameAs = str(row['sameAs'])\n",
    "            goldwriter.writerow([sameAs.lower()] + [uri.lower()] + ['TRUE'])"
   ]
  },
  {
   "cell_type": "code",
   "execution_count": null,
   "metadata": {},
   "outputs": [],
   "source": []
  }
 ],
 "metadata": {
  "kernelspec": {
   "display_name": "Python 3",
   "language": "python",
   "name": "python3"
  },
  "language_info": {
   "codemirror_mode": {
    "name": "ipython",
    "version": 3
   },
   "file_extension": ".py",
   "mimetype": "text/x-python",
   "name": "python",
   "nbconvert_exporter": "python",
   "pygments_lexer": "ipython3",
   "version": "3.5.5"
  }
 },
 "nbformat": 4,
 "nbformat_minor": 2
}
